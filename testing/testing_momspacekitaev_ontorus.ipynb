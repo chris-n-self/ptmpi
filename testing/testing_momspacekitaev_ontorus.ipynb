{
 "cells": [
  {
   "cell_type": "code",
   "execution_count": 2,
   "metadata": {
    "collapsed": false
   },
   "outputs": [],
   "source": [
    "import os\n",
    "import sys\n",
    "import json\n",
    "import csv\n",
    "\n",
    "# numeric, scientific\n",
    "from scipy import linalg as spla\n",
    "import numpy as np\n",
    "\n",
    "# plotting\n",
    "# %matplotlib inline\n",
    "import matplotlib\n",
    "from mpl_toolkits.mplot3d import axes3d\n",
    "from matplotlib import cm\n",
    "import matplotlib.pyplot as plt\n",
    "\n",
    "# import Kitaev Honeycomb package\n",
    "import kithcmb\n",
    "from kithcmb import DisorderVortexSectors as vs\n",
    "from kithcmb import MomSpaceKitaev as momvs\n",
    "\n",
    "# import jsci, CT's enhanced json stream write package\n",
    "import jsci\n",
    "from jsci import WriteStream as jsciwrite\n",
    "from jsci import Coding as jscicoding"
   ]
  },
  {
   "cell_type": "code",
   "execution_count": 3,
   "metadata": {
    "collapsed": false
   },
   "outputs": [],
   "source": [
    "kh_sys = momvs.MomSpaceKitaev(1.,0.1)"
   ]
  },
  {
   "cell_type": "code",
   "execution_count": 4,
   "metadata": {
    "collapsed": false
   },
   "outputs": [],
   "source": [
    "kh_sys.set_no_vortex_torus()\n",
    "#kh_sys.set_full_vortex_torus()"
   ]
  },
  {
   "cell_type": "code",
   "execution_count": 5,
   "metadata": {
    "collapsed": false
   },
   "outputs": [
    {
     "name": "stderr",
     "output_type": "stream",
     "text": [
      "/Users/cns08/Projects/code/kithcmb/packages/kithcmb/MomSpaceKitaev.py:42: FutureWarning: comparison to `None` will result in an elementwise object comparison in the future.\n",
      "  if np.all(self.px == px_range_) and np.all(self.py == py_range_):\n"
     ]
    }
   ],
   "source": [
    "spectrum = kh_sys.get_spectrum( np.linspace(-np.pi,np.pi,9),np.linspace(-np.pi,np.pi,9) )"
   ]
  },
  {
   "cell_type": "code",
   "execution_count": 6,
   "metadata": {
    "collapsed": false
   },
   "outputs": [
    {
     "data": {
      "text/plain": [
       "array([-3.14159265, -2.35619449, -1.57079633, -0.78539816,  0.        ,\n",
       "        0.78539816,  1.57079633,  2.35619449,  3.14159265])"
      ]
     },
     "execution_count": 6,
     "metadata": {},
     "output_type": "execute_result"
    }
   ],
   "source": [
    "kh_sys.px"
   ]
  },
  {
   "cell_type": "code",
   "execution_count": 7,
   "metadata": {
    "collapsed": false
   },
   "outputs": [],
   "source": [
    "PX = [ kh_sys.px for py in kh_sys.py ]\n",
    "PY = np.array([ kh_sys.py for py in kh_sys.px ]).transpose()\n",
    "bands = [ [[ kh_sys.spectrum[px][py][band] for px in range(len(kh_sys.px)) ] for py in range(len(kh_sys.py)) ] for band in range(2*kh_sys.Lx*kh_sys.Ly) ]"
   ]
  },
  {
   "cell_type": "code",
   "execution_count": 8,
   "metadata": {
    "collapsed": false
   },
   "outputs": [],
   "source": [
    "PX = [ kh_sys.px for py in kh_sys.py ]\n",
    "\n",
    "fig = plt.figure( figsize=(16,10))\n",
    "ax = fig.add_subplot(111, projection='3d')\n",
    "ax.plot_wireframe(PX, PY, bands[0], rstride=1, cstride=1)\n",
    "ax.plot_wireframe(PX, PY, bands[1], rstride=1, cstride=1, color='r')\n",
    "#ax.plot_wireframe(PX, PY, bands[2], rstride=1, cstride=1, color='g')\n",
    "#ax.plot_wireframe(PX, PY, bands[3], rstride=1, cstride=1, color='y')\n",
    "# ax.plot_wireframe(X, Y, IMAG, rstride=1, cstride=1, color='r')\n",
    "ax.view_init(elev=30., azim=30.)\n",
    "plt.show()"
   ]
  },
  {
   "cell_type": "code",
   "execution_count": 9,
   "metadata": {
    "collapsed": false
   },
   "outputs": [
    {
     "name": "stdout",
     "output_type": "stream",
     "text": [
      "[[ 0.08284271+0.08284271j  0.70710678-1.70710678j]\n",
      " [ 0.00000000+0.j          0.08284271-0.08284271j]]\n"
     ]
    }
   ],
   "source": [
    "print( kh_sys._compute_kernel( np.array([np.pi/4.,np.pi/2.],dtype=np.float64) ) )"
   ]
  },
  {
   "cell_type": "code",
   "execution_count": 9,
   "metadata": {
    "collapsed": false
   },
   "outputs": [
    {
     "data": {
      "text/plain": [
       "matrix([[-0.33137085+0.j        ,  3.41421356+1.41421356j],\n",
       "        [ 3.41421356-1.41421356j,  0.33137085+0.j        ]])"
      ]
     },
     "execution_count": 9,
     "metadata": {},
     "output_type": "execute_result"
    }
   ],
   "source": [
    "2j*( kh_sys.A - np.matrix(kh_sys.A).getH() )"
   ]
  },
  {
   "cell_type": "code",
   "execution_count": 10,
   "metadata": {
    "collapsed": false
   },
   "outputs": [
    {
     "name": "stdout",
     "output_type": "stream",
     "text": [
      "[ 0.78539816  1.57079633]\n"
     ]
    }
   ],
   "source": [
    "mom_point_ = np.array([np.pi/4.,np.pi/2.],dtype=np.float64)\n",
    "print mom_point_"
   ]
  },
  {
   "cell_type": "code",
   "execution_count": 11,
   "metadata": {
    "collapsed": false
   },
   "outputs": [
    {
     "name": "stdout",
     "output_type": "stream",
     "text": [
      "[[  1.00000000e-01+0.1j   6.12323400e-17-1.j ]\n",
      " [  0.00000000e+00+0.j    1.00000000e-01-0.1j]]\n",
      "[[ 0.1+0.1j  1.0-1.j ]\n",
      " [ 0.0+0.j   0.1-0.1j]]\n",
      "[[ 0.2+0.j  1.0-2.j]\n",
      " [ 0.0+0.j  0.2+0.j]]\n",
      "[[ 0.+0.j  4.+2.j]\n",
      " [ 4.-2.j  0.+0.j]]\n",
      "[ 4.47213595 -4.47213595]\n"
     ]
    }
   ],
   "source": [
    "mom_point = [np.pi,np.pi]\n",
    "mom_point = [np.pi/2.,np.pi/2.]\n",
    "# mom_point = [0,0]\n",
    "\n",
    "kh_sys.A = np.zeros( [2*kh_sys.Lx*kh_sys.Ly, 2*kh_sys.Lx*kh_sys.Ly], dtype=np.complex128 )\n",
    "kh_sys._compute_A_p( 1,1,1,mom_point )\n",
    "print kh_sys.A\n",
    "\n",
    "kh_sys._compute_A_p( 2,1,1,mom_point )\n",
    "print kh_sys.A\n",
    "\n",
    "kh_sys._compute_A_p( 3,1,1,mom_point )\n",
    "print kh_sys.A\n",
    "\n",
    "print 2j*( kh_sys.A - np.matrix(kh_sys.A).getH() )\n",
    "print -spla.eigvalsh( 2j*( kh_sys.A - np.matrix(kh_sys.A).getH() ) )"
   ]
  },
  {
   "cell_type": "code",
   "execution_count": null,
   "metadata": {
    "collapsed": true
   },
   "outputs": [],
   "source": []
  }
 ],
 "metadata": {
  "kernelspec": {
   "display_name": "Python 2",
   "language": "python",
   "name": "python2"
  },
  "language_info": {
   "codemirror_mode": {
    "name": "ipython",
    "version": 2
   },
   "file_extension": ".py",
   "mimetype": "text/x-python",
   "name": "python",
   "nbconvert_exporter": "python",
   "pygments_lexer": "ipython2",
   "version": "2.7.11"
  }
 },
 "nbformat": 4,
 "nbformat_minor": 0
}
